{
 "cells": [
  {
   "cell_type": "code",
   "execution_count": null,
   "id": "dbbbb609-8d76-4372-9fa6-71ae207bf225",
   "metadata": {},
   "outputs": [],
   "source": []
  }
 ],
 "metadata": {
  "kernelspec": {
   "display_name": "",
   "name": ""
  },
  "language_info": {
   "name": ""
  }
 },
 "nbformat": 4,
 "nbformat_minor": 5
}
